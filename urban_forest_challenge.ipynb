{
 "cells": [
  {
   "cell_type": "markdown",
   "metadata": {},
   "source": [
    "# Urban Forest Challenge Eliiza"
   ]
  },
  {
   "cell_type": "markdown",
   "metadata": {},
   "source": [
    "### This challenge solve using below steps"
   ]
  },
  {
   "cell_type": "markdown",
   "metadata": {},
   "source": [
    "#### Step 1 : \n",
    "           Load the melbourne suburb Json data into data frame.\n",
    "#### Step 2 :\n",
    "           Extract the column of Lsa 2 suburb name, suburb code and geometry cordination.\n",
    "#### Step 3 :\n",
    "           Calculate the suburb area.\n",
    "#### Step 4 :\n",
    "           Load the data of forst in data frame.\n",
    "#### Step 5 :\n",
    "           Convert or shapping the forest geometry.\n",
    "#### Step 6:\n",
    "           Perform the intersection operation on suburb and forest data.\n",
    "#### Step 7 :\n",
    "           Calculate intersection part area.\n",
    "#### Step 8 :\n",
    "           Find the % by intersection area/suburb area."
   ]
  },
  {
   "cell_type": "markdown",
   "metadata": {},
   "source": [
    "#### Import the required packages"
   ]
  },
  {
   "cell_type": "code",
   "execution_count": 1,
   "metadata": {},
   "outputs": [],
   "source": [
    "from pyspark import SparkContext, SparkConf\n",
    "from pyspark.sql import SQLContext\n",
    "from pyspark.sql.types import *\n",
    "from pyspark.sql.functions import udf,isnan, when, count, col\n",
    "from polygon_utils import *\n",
    "from shapely.wkt import loads\n",
    "import pyspark.sql.functions as F"
   ]
  },
  {
   "cell_type": "markdown",
   "metadata": {},
   "source": [
    "#### Create Spark Context"
   ]
  },
  {
   "cell_type": "code",
   "execution_count": 2,
   "metadata": {},
   "outputs": [
    {
     "name": "stdout",
     "output_type": "stream",
     "text": [
      "dict_items([('spark.app.name', 'Eliiza Urban Forest Challenge')])\n"
     ]
    }
   ],
   "source": [
    "def create_sc():\n",
    "    \"\"\"\n",
    "    Create or generate spark context based on custom configuration and return spark object.\n",
    "    \"\"\"\n",
    "    sc_conf = SparkConf() # Initilise spark config\n",
    "    sc_conf.setAppName('Eliiza Urban Forest Challenge') # set the spark application name\n",
    "    print(sc_conf.getAll()) # display default all the configuration\n",
    "\n",
    "    sc = None \n",
    "    try:\n",
    "        sc.stop() # stop before to create spark context \n",
    "        sc = SparkContext(conf=sc_conf) # create and assign spark context\n",
    "    except:\n",
    "        sc = SparkContext(conf=sc_conf) # create and assign spark context\n",
    "\n",
    "    return sc \n",
    "\n",
    "scontxt = create_sc() # Call the spark create function\n",
    "sqlcntxt = SQLContext(scontxt) # Create SQL context"
   ]
  },
  {
   "cell_type": "markdown",
   "metadata": {},
   "source": [
    "#### Read the Suburb Raw Json Data"
   ]
  },
  {
   "cell_type": "code",
   "execution_count": 3,
   "metadata": {},
   "outputs": [
    {
     "data": {
      "text/html": [
       "<div>\n",
       "<style scoped>\n",
       "    .dataframe tbody tr th:only-of-type {\n",
       "        vertical-align: middle;\n",
       "    }\n",
       "\n",
       "    .dataframe tbody tr th {\n",
       "        vertical-align: top;\n",
       "    }\n",
       "\n",
       "    .dataframe thead th {\n",
       "        text-align: right;\n",
       "    }\n",
       "</style>\n",
       "<table border=\"1\" class=\"dataframe\">\n",
       "  <thead>\n",
       "    <tr style=\"text-align: right;\">\n",
       "      <th></th>\n",
       "      <th>areasqkm16</th>\n",
       "      <th>gcc_code16</th>\n",
       "      <th>gcc_name16</th>\n",
       "      <th>geometry</th>\n",
       "      <th>sa1_7dig16</th>\n",
       "      <th>sa1_main16</th>\n",
       "      <th>sa2_5dig16</th>\n",
       "      <th>sa2_main16</th>\n",
       "      <th>sa2_name16</th>\n",
       "      <th>sa3_code16</th>\n",
       "      <th>sa3_name16</th>\n",
       "      <th>sa4_code16</th>\n",
       "      <th>sa4_name16</th>\n",
       "      <th>ste_code16</th>\n",
       "      <th>ste_name16</th>\n",
       "      <th>type</th>\n",
       "    </tr>\n",
       "  </thead>\n",
       "  <tbody>\n",
       "    <tr>\n",
       "      <th>0</th>\n",
       "      <td>0.0410</td>\n",
       "      <td>2GMEL</td>\n",
       "      <td>Greater Melbourne</td>\n",
       "      <td>([[[[144.974079984, -37.75927600899996], [144....</td>\n",
       "      <td>2110501</td>\n",
       "      <td>20601110501</td>\n",
       "      <td>21105</td>\n",
       "      <td>206011105</td>\n",
       "      <td>Brunswick</td>\n",
       "      <td>20601</td>\n",
       "      <td>Brunswick - Coburg</td>\n",
       "      <td>206</td>\n",
       "      <td>Melbourne - Inner</td>\n",
       "      <td>2</td>\n",
       "      <td>Victoria</td>\n",
       "      <td>Feature</td>\n",
       "    </tr>\n",
       "    <tr>\n",
       "      <th>1</th>\n",
       "      <td>0.1237</td>\n",
       "      <td>2GMEL</td>\n",
       "      <td>Greater Melbourne</td>\n",
       "      <td>([[[[144.968065915, -37.76141466399997], [144....</td>\n",
       "      <td>2110502</td>\n",
       "      <td>20601110502</td>\n",
       "      <td>21105</td>\n",
       "      <td>206011105</td>\n",
       "      <td>Brunswick</td>\n",
       "      <td>20601</td>\n",
       "      <td>Brunswick - Coburg</td>\n",
       "      <td>206</td>\n",
       "      <td>Melbourne - Inner</td>\n",
       "      <td>2</td>\n",
       "      <td>Victoria</td>\n",
       "      <td>Feature</td>\n",
       "    </tr>\n",
       "    <tr>\n",
       "      <th>2</th>\n",
       "      <td>0.0622</td>\n",
       "      <td>2GMEL</td>\n",
       "      <td>Greater Melbourne</td>\n",
       "      <td>([[[[144.9677592060001, -37.763158584999985], ...</td>\n",
       "      <td>2110503</td>\n",
       "      <td>20601110503</td>\n",
       "      <td>21105</td>\n",
       "      <td>206011105</td>\n",
       "      <td>Brunswick</td>\n",
       "      <td>20601</td>\n",
       "      <td>Brunswick - Coburg</td>\n",
       "      <td>206</td>\n",
       "      <td>Melbourne - Inner</td>\n",
       "      <td>2</td>\n",
       "      <td>Victoria</td>\n",
       "      <td>Feature</td>\n",
       "    </tr>\n",
       "    <tr>\n",
       "      <th>3</th>\n",
       "      <td>0.0597</td>\n",
       "      <td>2GMEL</td>\n",
       "      <td>Greater Melbourne</td>\n",
       "      <td>([[[[144.97196615900012, -37.76444694399992], ...</td>\n",
       "      <td>2110504</td>\n",
       "      <td>20601110504</td>\n",
       "      <td>21105</td>\n",
       "      <td>206011105</td>\n",
       "      <td>Brunswick</td>\n",
       "      <td>20601</td>\n",
       "      <td>Brunswick - Coburg</td>\n",
       "      <td>206</td>\n",
       "      <td>Melbourne - Inner</td>\n",
       "      <td>2</td>\n",
       "      <td>Victoria</td>\n",
       "      <td>Feature</td>\n",
       "    </tr>\n",
       "    <tr>\n",
       "      <th>4</th>\n",
       "      <td>0.0685</td>\n",
       "      <td>2GMEL</td>\n",
       "      <td>Greater Melbourne</td>\n",
       "      <td>([[[[144.9664913050001, -37.76468318899998], [...</td>\n",
       "      <td>2110505</td>\n",
       "      <td>20601110505</td>\n",
       "      <td>21105</td>\n",
       "      <td>206011105</td>\n",
       "      <td>Brunswick</td>\n",
       "      <td>20601</td>\n",
       "      <td>Brunswick - Coburg</td>\n",
       "      <td>206</td>\n",
       "      <td>Melbourne - Inner</td>\n",
       "      <td>2</td>\n",
       "      <td>Victoria</td>\n",
       "      <td>Feature</td>\n",
       "    </tr>\n",
       "    <tr>\n",
       "      <th>...</th>\n",
       "      <td>...</td>\n",
       "      <td>...</td>\n",
       "      <td>...</td>\n",
       "      <td>...</td>\n",
       "      <td>...</td>\n",
       "      <td>...</td>\n",
       "      <td>...</td>\n",
       "      <td>...</td>\n",
       "      <td>...</td>\n",
       "      <td>...</td>\n",
       "      <td>...</td>\n",
       "      <td>...</td>\n",
       "      <td>...</td>\n",
       "      <td>...</td>\n",
       "      <td>...</td>\n",
       "      <td>...</td>\n",
       "    </tr>\n",
       "    <tr>\n",
       "      <th>1229</th>\n",
       "      <td>0.1650</td>\n",
       "      <td>2GMEL</td>\n",
       "      <td>Greater Melbourne</td>\n",
       "      <td>([[[[144.9952361500001, -37.79466029299994], [...</td>\n",
       "      <td>2114517</td>\n",
       "      <td>20607114517</td>\n",
       "      <td>21145</td>\n",
       "      <td>206071145</td>\n",
       "      <td>Yarra - North</td>\n",
       "      <td>20607</td>\n",
       "      <td>Yarra</td>\n",
       "      <td>206</td>\n",
       "      <td>Melbourne - Inner</td>\n",
       "      <td>2</td>\n",
       "      <td>Victoria</td>\n",
       "      <td>Feature</td>\n",
       "    </tr>\n",
       "    <tr>\n",
       "      <th>1230</th>\n",
       "      <td>0.1135</td>\n",
       "      <td>2GMEL</td>\n",
       "      <td>Greater Melbourne</td>\n",
       "      <td>([[[[144.9966683010001, -37.79045864699998], [...</td>\n",
       "      <td>2114518</td>\n",
       "      <td>20607114518</td>\n",
       "      <td>21145</td>\n",
       "      <td>206071145</td>\n",
       "      <td>Yarra - North</td>\n",
       "      <td>20607</td>\n",
       "      <td>Yarra</td>\n",
       "      <td>206</td>\n",
       "      <td>Melbourne - Inner</td>\n",
       "      <td>2</td>\n",
       "      <td>Victoria</td>\n",
       "      <td>Feature</td>\n",
       "    </tr>\n",
       "    <tr>\n",
       "      <th>1231</th>\n",
       "      <td>0.1169</td>\n",
       "      <td>2GMEL</td>\n",
       "      <td>Greater Melbourne</td>\n",
       "      <td>([[[[145.00227707300007, -37.78604730399997], ...</td>\n",
       "      <td>2114519</td>\n",
       "      <td>20607114519</td>\n",
       "      <td>21145</td>\n",
       "      <td>206071145</td>\n",
       "      <td>Yarra - North</td>\n",
       "      <td>20607</td>\n",
       "      <td>Yarra</td>\n",
       "      <td>206</td>\n",
       "      <td>Melbourne - Inner</td>\n",
       "      <td>2</td>\n",
       "      <td>Victoria</td>\n",
       "      <td>Feature</td>\n",
       "    </tr>\n",
       "    <tr>\n",
       "      <th>1232</th>\n",
       "      <td>0.7632</td>\n",
       "      <td>2GMEL</td>\n",
       "      <td>Greater Melbourne</td>\n",
       "      <td>([[[[145.00271102200008, -37.79376200699994], ...</td>\n",
       "      <td>2114520</td>\n",
       "      <td>20607114520</td>\n",
       "      <td>21145</td>\n",
       "      <td>206071145</td>\n",
       "      <td>Yarra - North</td>\n",
       "      <td>20607</td>\n",
       "      <td>Yarra</td>\n",
       "      <td>206</td>\n",
       "      <td>Melbourne - Inner</td>\n",
       "      <td>2</td>\n",
       "      <td>Victoria</td>\n",
       "      <td>Feature</td>\n",
       "    </tr>\n",
       "    <tr>\n",
       "      <th>1233</th>\n",
       "      <td>0.0918</td>\n",
       "      <td>2GMEL</td>\n",
       "      <td>Greater Melbourne</td>\n",
       "      <td>([[[[144.9920451380001, -37.79282995899996], [...</td>\n",
       "      <td>2114521</td>\n",
       "      <td>20607114521</td>\n",
       "      <td>21145</td>\n",
       "      <td>206071145</td>\n",
       "      <td>Yarra - North</td>\n",
       "      <td>20607</td>\n",
       "      <td>Yarra</td>\n",
       "      <td>206</td>\n",
       "      <td>Melbourne - Inner</td>\n",
       "      <td>2</td>\n",
       "      <td>Victoria</td>\n",
       "      <td>Feature</td>\n",
       "    </tr>\n",
       "  </tbody>\n",
       "</table>\n",
       "<p>1234 rows × 16 columns</p>\n",
       "</div>"
      ],
      "text/plain": [
       "      areasqkm16 gcc_code16         gcc_name16  \\\n",
       "0         0.0410      2GMEL  Greater Melbourne   \n",
       "1         0.1237      2GMEL  Greater Melbourne   \n",
       "2         0.0622      2GMEL  Greater Melbourne   \n",
       "3         0.0597      2GMEL  Greater Melbourne   \n",
       "4         0.0685      2GMEL  Greater Melbourne   \n",
       "...          ...        ...                ...   \n",
       "1229      0.1650      2GMEL  Greater Melbourne   \n",
       "1230      0.1135      2GMEL  Greater Melbourne   \n",
       "1231      0.1169      2GMEL  Greater Melbourne   \n",
       "1232      0.7632      2GMEL  Greater Melbourne   \n",
       "1233      0.0918      2GMEL  Greater Melbourne   \n",
       "\n",
       "                                               geometry sa1_7dig16  \\\n",
       "0     ([[[[144.974079984, -37.75927600899996], [144....    2110501   \n",
       "1     ([[[[144.968065915, -37.76141466399997], [144....    2110502   \n",
       "2     ([[[[144.9677592060001, -37.763158584999985], ...    2110503   \n",
       "3     ([[[[144.97196615900012, -37.76444694399992], ...    2110504   \n",
       "4     ([[[[144.9664913050001, -37.76468318899998], [...    2110505   \n",
       "...                                                 ...        ...   \n",
       "1229  ([[[[144.9952361500001, -37.79466029299994], [...    2114517   \n",
       "1230  ([[[[144.9966683010001, -37.79045864699998], [...    2114518   \n",
       "1231  ([[[[145.00227707300007, -37.78604730399997], ...    2114519   \n",
       "1232  ([[[[145.00271102200008, -37.79376200699994], ...    2114520   \n",
       "1233  ([[[[144.9920451380001, -37.79282995899996], [...    2114521   \n",
       "\n",
       "       sa1_main16 sa2_5dig16 sa2_main16     sa2_name16 sa3_code16  \\\n",
       "0     20601110501      21105  206011105      Brunswick      20601   \n",
       "1     20601110502      21105  206011105      Brunswick      20601   \n",
       "2     20601110503      21105  206011105      Brunswick      20601   \n",
       "3     20601110504      21105  206011105      Brunswick      20601   \n",
       "4     20601110505      21105  206011105      Brunswick      20601   \n",
       "...           ...        ...        ...            ...        ...   \n",
       "1229  20607114517      21145  206071145  Yarra - North      20607   \n",
       "1230  20607114518      21145  206071145  Yarra - North      20607   \n",
       "1231  20607114519      21145  206071145  Yarra - North      20607   \n",
       "1232  20607114520      21145  206071145  Yarra - North      20607   \n",
       "1233  20607114521      21145  206071145  Yarra - North      20607   \n",
       "\n",
       "              sa3_name16 sa4_code16         sa4_name16 ste_code16 ste_name16  \\\n",
       "0     Brunswick - Coburg        206  Melbourne - Inner          2   Victoria   \n",
       "1     Brunswick - Coburg        206  Melbourne - Inner          2   Victoria   \n",
       "2     Brunswick - Coburg        206  Melbourne - Inner          2   Victoria   \n",
       "3     Brunswick - Coburg        206  Melbourne - Inner          2   Victoria   \n",
       "4     Brunswick - Coburg        206  Melbourne - Inner          2   Victoria   \n",
       "...                  ...        ...                ...        ...        ...   \n",
       "1229               Yarra        206  Melbourne - Inner          2   Victoria   \n",
       "1230               Yarra        206  Melbourne - Inner          2   Victoria   \n",
       "1231               Yarra        206  Melbourne - Inner          2   Victoria   \n",
       "1232               Yarra        206  Melbourne - Inner          2   Victoria   \n",
       "1233               Yarra        206  Melbourne - Inner          2   Victoria   \n",
       "\n",
       "         type  \n",
       "0     Feature  \n",
       "1     Feature  \n",
       "2     Feature  \n",
       "3     Feature  \n",
       "4     Feature  \n",
       "...       ...  \n",
       "1229  Feature  \n",
       "1230  Feature  \n",
       "1231  Feature  \n",
       "1232  Feature  \n",
       "1233  Feature  \n",
       "\n",
       "[1234 rows x 16 columns]"
      ]
     },
     "execution_count": 3,
     "metadata": {},
     "output_type": "execute_result"
    }
   ],
   "source": [
    "melbInnerRaw = sqlcntxt.read.json('melb_inner_2016.json') # Read Json data and assign into dataframe\n",
    "melbInnerRaw.createOrReplaceTempView(\"suburbraw\") # Create Temporary View\n",
    "allraw_data = sqlcntxt.sql(\"SELECT * FROM suburbraw\") # retrive all suburb raw data\n",
    "df_pd = allraw_data.toPandas() # convert into pandas frame for just view purpose\n",
    "df_pd # display data"
   ]
  },
  {
   "cell_type": "markdown",
   "metadata": {},
   "source": [
    "As per given link [http://www.abs.gov.au/websitedbs/D3310114.nsf/home/Australian+Statistical+Geography+Standard+(ASGS)], for suburb data need to extract column of Statistical Areas Level 2 (SA2s) are designed to reflect functional areas that represent a community that interacts together socially and economically. They consider Suburb and Locality boundaries to improve the geographic coding of data to these areas and in major urban areas SA2s often reflect one or more related suburbs. "
   ]
  },
  {
   "cell_type": "code",
   "execution_count": 4,
   "metadata": {},
   "outputs": [
    {
     "name": "stdout",
     "output_type": "stream",
     "text": [
      "+-----------+-----------+-------------------+-------------------+--------------------+\n",
      "|suburb_name|suburb_code|regional_level_name|regional_level_code|     map_coordinates|\n",
      "+-----------+-----------+-------------------+-------------------+--------------------+\n",
      "|  Brunswick|  206011105| Brunswick - Coburg|              20601|[[[[144.974079984...|\n",
      "|  Brunswick|  206011105| Brunswick - Coburg|              20601|[[[[144.968065915...|\n",
      "|  Brunswick|  206011105| Brunswick - Coburg|              20601|[[[[144.967759206...|\n",
      "|  Brunswick|  206011105| Brunswick - Coburg|              20601|[[[[144.971966159...|\n",
      "|  Brunswick|  206011105| Brunswick - Coburg|              20601|[[[[144.966491305...|\n",
      "|  Brunswick|  206011105| Brunswick - Coburg|              20601|[[[[144.966457433...|\n",
      "|  Brunswick|  206011105| Brunswick - Coburg|              20601|[[[[144.962853934...|\n",
      "|  Brunswick|  206011105| Brunswick - Coburg|              20601|[[[[144.972592207...|\n",
      "|  Brunswick|  206011105| Brunswick - Coburg|              20601|[[[[144.963015228...|\n",
      "|  Brunswick|  206011105| Brunswick - Coburg|              20601|[[[[144.972307471...|\n",
      "+-----------+-----------+-------------------+-------------------+--------------------+\n",
      "only showing top 10 rows\n",
      "\n"
     ]
    }
   ],
   "source": [
    "# Extract the Suburb data from the raw data\n",
    "feature_data = melbInnerRaw.select(F.col(\"sa2_name16\").alias(\"suburb_name\"),\\\n",
    "                                   F.col(\"sa2_main16\").alias(\"suburb_code\"), \\\n",
    "                                   F.col(\"sa3_name16\").alias(\"regional_level_name\"),\\\n",
    "                                   F.col(\"sa3_code16\").alias(\"regional_level_code\"),\\\n",
    "                                   F.col(\"geometry.coordinates\").alias(\"map_coordinates\")) # Extract data of suburb name,\n",
    "                                    # suburb code, regional name, regional code, and geometry coordination.\n",
    "feature_data.show(10)"
   ]
  },
  {
   "cell_type": "code",
   "execution_count": 5,
   "metadata": {},
   "outputs": [
    {
     "data": {
      "text/html": [
       "<div>\n",
       "<style scoped>\n",
       "    .dataframe tbody tr th:only-of-type {\n",
       "        vertical-align: middle;\n",
       "    }\n",
       "\n",
       "    .dataframe tbody tr th {\n",
       "        vertical-align: top;\n",
       "    }\n",
       "\n",
       "    .dataframe thead th {\n",
       "        text-align: right;\n",
       "    }\n",
       "</style>\n",
       "<table border=\"1\" class=\"dataframe\">\n",
       "  <thead>\n",
       "    <tr style=\"text-align: right;\">\n",
       "      <th></th>\n",
       "      <th>0</th>\n",
       "    </tr>\n",
       "  </thead>\n",
       "  <tbody>\n",
       "    <tr>\n",
       "      <th>suburb_name</th>\n",
       "      <td>0</td>\n",
       "    </tr>\n",
       "    <tr>\n",
       "      <th>suburb_code</th>\n",
       "      <td>0</td>\n",
       "    </tr>\n",
       "    <tr>\n",
       "      <th>regional_level_name</th>\n",
       "      <td>0</td>\n",
       "    </tr>\n",
       "    <tr>\n",
       "      <th>regional_level_code</th>\n",
       "      <td>0</td>\n",
       "    </tr>\n",
       "    <tr>\n",
       "      <th>map_coordinates</th>\n",
       "      <td>0</td>\n",
       "    </tr>\n",
       "  </tbody>\n",
       "</table>\n",
       "</div>"
      ],
      "text/plain": [
       "                     0\n",
       "suburb_name          0\n",
       "suburb_code          0\n",
       "regional_level_name  0\n",
       "regional_level_code  0\n",
       "map_coordinates      0"
      ]
     },
     "execution_count": 5,
     "metadata": {},
     "output_type": "execute_result"
    }
   ],
   "source": [
    "# Checking the extract data contains null value or not\n",
    "feature_data.select([count(when(col(c).isNull(), c)).alias(c) for c in \n",
    "           feature_data.columns]).toPandas().T  "
   ]
  },
  {
   "cell_type": "markdown",
   "metadata": {},
   "source": [
    "There is no null or undefine value, so we don't require to clean the data."
   ]
  },
  {
   "cell_type": "markdown",
   "metadata": {},
   "source": [
    "#### Sururb wise Data"
   ]
  },
  {
   "cell_type": "markdown",
   "metadata": {},
   "source": [
    "First need to group by the data by suburb name or suburb code and after calculate the area of that suburb."
   ]
  },
  {
   "cell_type": "code",
   "execution_count": 6,
   "metadata": {},
   "outputs": [
    {
     "name": "stdout",
     "output_type": "stream",
     "text": [
      "+--------------------+-----------+--------------------+\n",
      "|         suburb_name|suburb_code| suburb_multipolygon|\n",
      "+--------------------+-----------+--------------------+\n",
      "|      Brunswick West|  206011107|[[[[[144.94775505...|\n",
      "|     South Melbourne|  206051132|[[[[[144.96560629...|\n",
      "|           Brunswick|  206011105|[[[[[144.97407998...|\n",
      "|          Ascot Vale|  206031113|[[[[[144.89810023...|\n",
      "|       St Kilda East|  206051134|[[[[[144.99882107...|\n",
      "|Port Melbourne In...|  206051131|[[[[[144.94568999...|\n",
      "|     Richmond (Vic.)|  206071144|[[[[[144.99160670...|\n",
      "|           Parkville|  206041124|[[[[[144.94886173...|\n",
      "|           Thornbury|  206021112|[[[[[145.02981194...|\n",
      "|Flemington Raceco...|  206041120|[[[[[144.90494891...|\n",
      "+--------------------+-----------+--------------------+\n",
      "only showing top 10 rows\n",
      "\n"
     ]
    }
   ],
   "source": [
    "# Aggregate data by suburb name and create list of mulipolugon geometry\n",
    "subhurb_agg_data = feature_data.groupby('suburb_name').agg(F.collect_list(feature_data[\"map_coordinates\"]).alias('suburb_multipolygon'),\\\n",
    "                                       F.first('suburb_code').alias('suburb_code')).select('suburb_name','suburb_code','suburb_multipolygon')\n",
    "subhurb_agg_data.show(10) # display data"
   ]
  },
  {
   "cell_type": "markdown",
   "metadata": {},
   "source": [
    "#### Calculate Suburb Area"
   ]
  },
  {
   "cell_type": "code",
   "execution_count": 7,
   "metadata": {},
   "outputs": [
    {
     "name": "stdout",
     "output_type": "stream",
     "text": [
      "+---------------+-----------+--------------------+------------+\n",
      "|    suburb_name|suburb_code| suburb_multipolygon| suburb_area|\n",
      "+---------------+-----------+--------------------+------------+\n",
      "| Brunswick West|  206011107|[[[[[144.94775505...| 3.250158E-4|\n",
      "|South Melbourne|  206051132|[[[[[144.96560629...| 2.553239E-4|\n",
      "|      Brunswick|  206011105|[[[[[144.97407998...|5.2584003E-4|\n",
      "|     Ascot Vale|  206031113|[[[[[144.89810023...|3.9230532E-4|\n",
      "|  St Kilda East|  206051134|[[[[[144.99882107...|2.4709452E-4|\n",
      "+---------------+-----------+--------------------+------------+\n",
      "only showing top 5 rows\n",
      "\n"
     ]
    }
   ],
   "source": [
    "# Call UDF to calculate suburb area, first need to merge multipolygon list and then calculate the area\n",
    "# Define lambda function to call UDF to calculate suburb area\n",
    "suburb_area_udf = udf(lambda suburb_multipolygons: multi_polygon_area(merge_multi_polygons(*suburb_multipolygons)), FloatType())\n",
    "subhurb_agg_data = subhurb_agg_data.withColumn('suburb_area', suburb_area_udf('suburb_multipolygon')) # Create New column of suburb area\n",
    "subhurb_agg_data.show(5) # display data"
   ]
  },
  {
   "cell_type": "markdown",
   "metadata": {},
   "source": [
    "### Load the Forest Data"
   ]
  },
  {
   "cell_type": "code",
   "execution_count": 8,
   "metadata": {},
   "outputs": [
    {
     "data": {
      "text/plain": [
       "Row(forest_area=6.573422431945801, forest_polygon='POLYGON ((144.96233513562794 -37.82850434925475 144.96233130242123 -37.82850454785653 144.96232748492085 -37.82850421683983 144.9623237976764 -37.828503363594265 144.96232160123958 -37.82850250460986 144.9623222133609 -37.82848025440896 144.96235226880833 -37.828480774593196 144.96235264766736 -37.82848145793179 144.96235356040816 -37.82848441696255 144.96235381193424 -37.828487457370365 144.96235339346634 -37.82849048528118 144.9623523188634 -37.8284934099163 144.96235062012963 -37.82849614171223 144.96234834951218 -37.82849859866522 144.9623455749836 -37.82850070535189 144.96234238125348 -37.828502397452624 144.9623388662872 -37.82850362439485 144.96233513562794 -37.82850434925475))')"
      ]
     },
     "execution_count": 8,
     "metadata": {},
     "output_type": "execute_result"
    }
   ],
   "source": [
    "# define the forest schema of Spark DataFrames\n",
    "forest_schema = StructType([\n",
    "    StructField('forest_area', FloatType(), False),\n",
    "    StructField('forest_polygon', StringType(), False),\n",
    "    ])\n",
    "\n",
    "# Load Data from text file\n",
    "df_with_schema = sqlcntxt.read.format('csv') \\\n",
    "      .option('header', False) \\\n",
    "      .option('delimiter', ' ') \\\n",
    "      .schema(forest_schema) \\\n",
    "      .load('melb_urban_forest_2016.txt/part-*')\n",
    "#      .load('melb_urban_forest_2016.txt/part-00000')  \n",
    "# The option melb_urban_forest_2016.txt/part-00000 is used to solve this challenge because my machine\n",
    "# is not able to compute faster in docker. My machine maximum RAM is 4GB so I have used on single file for development\n",
    "# I have also try with all file but it will taking too much time for transformation and action on data frame.\n",
    "# I have tried multiple time with perfomance tunnig also but machine is crashing evry time.\n",
    "\n",
    "\n",
    "df_with_schema.first() # Display First element"
   ]
  },
  {
   "cell_type": "markdown",
   "metadata": {},
   "source": [
    "As per shown in this result the geometry of forest is not in format as per polygon object. First we need to reshape the polygon object."
   ]
  },
  {
   "cell_type": "markdown",
   "metadata": {},
   "source": [
    "#### Shape the Geometry data into PolyGon format"
   ]
  },
  {
   "cell_type": "code",
   "execution_count": 9,
   "metadata": {},
   "outputs": [
    {
     "data": {
      "text/plain": [
       "Row(forest_area=6.573422431945801, cordination='((144.96233513562794 -37.82850434925475 144.96233130242123 -37.82850454785653 144.96232748492085 -37.82850421683983 144.9623237976764 -37.828503363594265 144.96232160123958 -37.82850250460986 144.9623222133609 -37.82848025440896 144.96235226880833 -37.828480774593196 144.96235264766736 -37.82848145793179 144.96235356040816 -37.82848441696255 144.96235381193424 -37.828487457370365 144.96235339346634 -37.82849048528118 144.9623523188634 -37.8284934099163 144.96235062012963 -37.82849614171223 144.96234834951218 -37.82849859866522 144.9623455749836 -37.82850070535189 144.96234238125348 -37.828502397452624 144.9623388662872 -37.82850362439485 144.96233513562794 -37.82850434925475))', forest_polygon_convert='POLYGON ((144.96233513562794 -37.82850434925475, 144.96233130242123 -37.82850454785653, 144.96232748492085 -37.82850421683983, 144.9623237976764 -37.828503363594265, 144.96232160123958 -37.82850250460986, 144.9623222133609 -37.82848025440896, 144.96235226880833 -37.828480774593196, 144.96235264766736 -37.82848145793179, 144.96235356040816 -37.82848441696255, 144.96235381193424 -37.828487457370365, 144.96235339346634 -37.82849048528118, 144.9623523188634 -37.8284934099163, 144.96235062012963 -37.82849614171223, 144.96234834951218 -37.82849859866522, 144.9623455749836 -37.82850070535189, 144.96234238125348 -37.828502397452624, 144.9623388662872 -37.82850362439485, 144.96233513562794 -37.82850434925475))')"
      ]
     },
     "execution_count": 9,
     "metadata": {},
     "output_type": "execute_result"
    }
   ],
   "source": [
    "df_with_schema.createOrReplaceTempView('forest_raw_data') # Create a view of forest raw data\n",
    "\n",
    "# extract forest area and substring polygon for shape\n",
    "# substring(forest_polygon,9,length(forest_polygon)-1) is remove 'POLYGON ' and return only co-ordination part \n",
    "forest_new_data = sqlcntxt.sql(\n",
    "    \"SELECT forest_area, substring(forest_polygon,9,length(forest_polygon)-1) as cordination from forest_raw_data\")\n",
    "\n",
    "\n",
    "def to_shape_polygon(polygon):\n",
    "    \"\"\"\n",
    "    To convert into polygone seq of loop into point, need to place comma after each pair.\n",
    "    This function is replace every second empty spacr ' ' into ', ' and return reshape polygon string.\n",
    "    \"\"\"\n",
    "    convert_polygon = ', '.join(' '.join(s) for s in zip(*[iter(polygon.split())]*2)) # replace every second space with ', '\n",
    "    return 'POLYGON '+ convert_polygon\n",
    "\n",
    "# Define lambda function to call UDF to re shape polygon object\n",
    "forest_data_df = forest_new_data.withColumn('forest_polygon_convert', udf(to_shape_polygon, StringType())('cordination')) # create new column of reformatted geometry\n",
    "\n",
    "forest_data_df.first() # display converted polygon record"
   ]
  },
  {
   "cell_type": "markdown",
   "metadata": {},
   "source": [
    "iter(s) returns an iterator for s.\n",
    "\n",
    "[iter(s)]*n makes a list of n times the same iterator for s.\n",
    "\n",
    "So, when doing zip(*[iter(s)]*n), it extracts an item from all the three iterators from the list in order. Since all the iterators are the same object, it just groups the list in chunks of n."
   ]
  },
  {
   "cell_type": "markdown",
   "metadata": {},
   "source": [
    "#### Combine Suburb and Forest Data"
   ]
  },
  {
   "cell_type": "markdown",
   "metadata": {},
   "source": [
    "To combine suburb and forest data first we need to calculate the bound value of both data and the find the intersect between two. If both are intersect with each other then we need to keep that record else not consider that record.\n",
    "\n",
    "To achieve this first need to create function bound intersect as per given in polygon_utils.py 'may_intersect' with some modification, because polygon_utils.py 'may_intersect' function is work for multipolygon object but we have polygon and multipolygon object.\n",
    "\n",
    "First we calculate bound for suburb multipolygon and forest polygon and after use the''suburb_forest_intersect' function to find if both are intersect with each other or not.\n",
    "\n",
    "If suburb and forest are intersect with each other then add into new created data frame called 'suburb_forest_join_data'"
   ]
  },
  {
   "cell_type": "code",
   "execution_count": 10,
   "metadata": {},
   "outputs": [],
   "source": [
    "def suburb_forest_intersect(polygon_a, polygon_b):\n",
    "    \"\"\"\n",
    "    Copy this function from given polygon utils to find interaction between two bound polygon\n",
    "    \"\"\"\n",
    "    a_min_x, a_min_y, a_max_x, a_max_y = polygon_a\n",
    "    b_min_x, b_min_y, b_max_x, b_max_y = polygon_b\n",
    "\n",
    "    return a_min_y <= b_max_y and \\\n",
    "           a_max_x >= b_min_x and \\\n",
    "           a_max_y >= b_min_y and \\\n",
    "           a_min_x <= b_max_x\n",
    "\n",
    "def suburb_forest_combine(bound_a, bound_b):\n",
    "    \"\"\"\n",
    "    Find the intersect bound between suburb and forest\n",
    "    \"\"\"\n",
    "    for a in bound_a:\n",
    "        if suburb_forest_intersect(a, bound_b):\n",
    "            return True\n",
    "\n",
    "    return False\n",
    "\n",
    "def suburb_multipolygon_boundries(suburb_multipolygons):\n",
    "    \"\"\"\n",
    "    Calculate the suburb multipolygon list bound value and return a list of bound\n",
    "    \"\"\"\n",
    "    boundries = []\n",
    "    for multipolygones in suburb_multipolygons: # Iterate over the multipolygon list\n",
    "        shape_multipolygone = to_shape(multipolygones) # Shape the multipolygon\n",
    "        shape_bound = shape_multipolygone.bounds # calculate bounds value\n",
    "        boundries.append(shape_bound) # append into the list\n",
    "    return boundries\n",
    "\n",
    "# Suburb bound Calculation\n",
    "\n",
    "# Define lambda function to call UDF to calculate bound of suburb multipolygon\n",
    "boundries_udf = udf(suburb_multipolygon_boundries, ArrayType(ArrayType(FloatType()))) # define UDF for bound calculation\n",
    "subhurb_agg_data = subhurb_agg_data.withColumn('suburb_boundries', boundries_udf('suburb_multipolygon')) # create a new column\n",
    "\n",
    "# Forest bound calcuation\n",
    "\n",
    "# Define lambda function to call UDF to calculate bound of forest polygon\n",
    "# loads method Returns a geometric object from a WKT representation wkt.\n",
    "forest_bound_calculation = udf(lambda forest_polygon: loads(forest_polygon).bounds, ArrayType(FloatType())) # define lamda function to calculate bound\n",
    "forest_data_df = forest_data_df.withColumn('forest_boundries', forest_bound_calculation('forest_polygon_convert')) # create a new column\n",
    "\n",
    "# Perform Partition\n",
    "subhurb_area_df_p = subhurb_agg_data.repartition(1)\n",
    "forest_data_df_p = forest_data_df.repartition(15)\n",
    "\n",
    "# perfrom the cross join over the intersection value is true and combine intersect data into single data frame\n",
    "suburb_forest_join_data = subhurb_area_df_p.crossJoin(forest_data_df).where(udf(suburb_forest_combine, BooleanType())\\\n",
    "                        (subhurb_area_df_p.suburb_boundries, forest_data_df.forest_boundries))"
   ]
  },
  {
   "cell_type": "markdown",
   "metadata": {},
   "source": [
    "#### Calculate the Intersect Area"
   ]
  },
  {
   "cell_type": "code",
   "execution_count": 11,
   "metadata": {},
   "outputs": [
    {
     "data": {
      "text/plain": [
       "DataFrame[suburb_name: string, suburb_area: float, suburb_code: string, suburb_multipolygon: array<array<array<array<array<double>>>>>, forest_multipolygon: array<string>]"
      ]
     },
     "execution_count": 11,
     "metadata": {},
     "output_type": "execute_result"
    }
   ],
   "source": [
    "# Group by the joined data based on suburb code\n",
    "suburb_forest_data = suburb_forest_join_data.groupby('suburb_code').agg(F.collect_list(suburb_forest_join_data[\"forest_polygon_convert\"]).alias('forest_multipolygon'),\\\n",
    "                                           F.first('suburb_name').alias('suburb_name'),\\\n",
    "                                           F.first('suburb_area').alias('suburb_area'),\\\n",
    "                                           F.first('suburb_multipolygon').alias('suburb_multipolygon'),\\\n",
    "                                           ).select('suburb_name','suburb_area','suburb_code','suburb_multipolygon','forest_multipolygon')\n",
    "\n",
    "suburb_forest_data.repartition(10) # perform partition"
   ]
  },
  {
   "cell_type": "code",
   "execution_count": 12,
   "metadata": {},
   "outputs": [],
   "source": [
    "# Merge the suburb multipolygon and format it.\n",
    "\n",
    "# Define lambda function to call UDF to merge multi polygon of suburb\n",
    "merge_suburb_polygon = udf(lambda multipolygons: merge_multi_polygons(*multipolygons),ArrayType(ArrayType(ArrayType(FloatType()))))\n",
    "\n",
    "# Create new column of merge suburb multipolygon\n",
    "suburb_forest_data = suburb_forest_data.withColumn('subhurb_multipolygon_merge', merge_suburb_polygon('suburb_multipolygon'))"
   ]
  },
  {
   "cell_type": "code",
   "execution_count": 13,
   "metadata": {},
   "outputs": [],
   "source": [
    "# Forest polygon is not in format of multipolygon so first we create list of polygon and then call function merge\n",
    "# multipoly gone it's reshape polygon to multipolygon.\n",
    "\n",
    "def generate_list(forest_in):\n",
    "    \"\"\"\n",
    "    This function is return the list of polygon which is seperated by comma\n",
    "    \"\"\"\n",
    "    forest_geo=[]\n",
    "    for i in forest_in:\n",
    "        forest_geo.append(loads(i)) # append the each ploygon object into list\n",
    "    return forest_geo\n",
    "\n",
    "# merge forest polygon and create multipolygon list from polygon list\n",
    "# Define lambda function to call UDF to merge polygon of forest\n",
    "merge_forest_polygon = udf(lambda forest_multipolygon: merge_multi_polygons(*generate_list(forest_multipolygon)),ArrayType(ArrayType(ArrayType(FloatType()))))\n",
    "\n",
    "# create new column forest multipolygon\n",
    "suburb_forest_data = suburb_forest_data.withColumn('forest_multipolygon_merge', merge_forest_polygon('forest_multipolygon'))"
   ]
  },
  {
   "cell_type": "code",
   "execution_count": 14,
   "metadata": {},
   "outputs": [],
   "source": [
    "# Calculate intersect area between merge suburb multipolygon and forest multipolygon\n",
    "\n",
    "# Once we ready with two merge multipolygon then need to find area of that both intersect \n",
    "intersect_area_udf = udf(lambda merged_suburb,merge_forest: intersection_area(merged_suburb,merge_forest), FloatType())\n",
    "\n",
    "# Create a new column for intersect area\n",
    "suburb_forest_data = suburb_forest_data.withColumn('intersect_area', intersect_area_udf('subhurb_multipolygon_merge','forest_multipolygon_merge'))"
   ]
  },
  {
   "cell_type": "code",
   "execution_count": 15,
   "metadata": {},
   "outputs": [],
   "source": [
    "# To find the greenest area need to calculate %\n",
    "\n",
    "# define lambda function to calculate % \n",
    "percentage = udf(lambda a,b: (a/b)*100, FloatType())\n",
    "\n",
    "#create new column called Percentage\n",
    "suburb_forest_data = suburb_forest_data.withColumn('Percentage', percentage('intersect_area','suburb_area'))\n",
    "\n",
    "# Drop uneccessary Column from the data frame\n",
    "suburb_forest_data = suburb_forest_data.drop('suburb_multipolygon').drop('suburb_area').\\\n",
    "                     drop('forest_multipolygon').drop('subhurb_multipolygon_merge').\\\n",
    "                     drop('forest_multipolygon_merge').drop('intersect_area')\n"
   ]
  },
  {
   "cell_type": "code",
   "execution_count": 16,
   "metadata": {},
   "outputs": [],
   "source": [
    "# Display the Greenest Suburb\n",
    "green_suburb_data=suburb_forest_data.createOrReplaceTempView(\"green_forest_data\") # create a temporary view of suburb forest data\n",
    "\n",
    "green_suburb =  sqlcntxt.sql(\n",
    " \"SELECT  * FROM green_forest_data order by Percentage desc\"\n",
    ")\n",
    "\n",
    "#green_suburb.show(10) # Display top 10 greenest suburb by Desc order"
   ]
  },
  {
   "cell_type": "markdown",
   "metadata": {},
   "source": [
    "Due to my machine crash on large data computation, I am unable to execute last result. For this reason i have used melb_urban_forest_2016.txt/part-00000 to solve this challenge because my machine is not able to compute faster in docker. My machine maximum RAM is 4GB so I have used on single file for development I have also try with all file but it will taking too much time for transformation and action on data frame. I have tried multiple time with various perfomance tuning options but machine is crashing every time."
   ]
  },
  {
   "cell_type": "markdown",
   "metadata": {},
   "source": [
    "All the functions mentioned below are more or less same functionally, but there very minor differences among them.\n",
    "\n",
    "createOrReplaceTempView\n",
    "\n",
    "createTempView -- TempTableAlreadyExistsException, if the view name already exists in the catalog.\n",
    "\n",
    "registerTempTable\n",
    "\n",
    "The function registerTempTable is added from 1.3 version of Spark whereas the other two are added in the version 2.0. So registerTempTable is deprecated from Spark 2.0 onwards.\n",
    "\n",
    "The life span of the view created by registerTempTable is limited to the SqlContext that was used to create the dataframe, whereas the life time of the view created by createOrReplaceTempView will be tied to SparkSession that was used to create the dataframe."
   ]
  },
  {
   "cell_type": "code",
   "execution_count": null,
   "metadata": {},
   "outputs": [],
   "source": []
  }
 ],
 "metadata": {
  "kernelspec": {
   "display_name": "Python 3",
   "language": "python",
   "name": "python3"
  },
  "language_info": {
   "codemirror_mode": {
    "name": "ipython",
    "version": 3
   },
   "file_extension": ".py",
   "mimetype": "text/x-python",
   "name": "python",
   "nbconvert_exporter": "python",
   "pygments_lexer": "ipython3",
   "version": "3.8.3"
  }
 },
 "nbformat": 4,
 "nbformat_minor": 4
}
